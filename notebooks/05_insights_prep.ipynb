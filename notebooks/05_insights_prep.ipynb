{
 "cells": [
  {
   "cell_type": "markdown",
   "id": "f4ed456d-259a-412c-8e65-e41f0a09d8f3",
   "metadata": {},
   "source": [
    "# Insights & Documentation"
   ]
  },
  {
   "cell_type": "markdown",
   "id": "e3dfc7a4-9dc1-470e-950f-1587c3c064fa",
   "metadata": {},
   "source": [
    "## 1 - Setup"
   ]
  },
  {
   "cell_type": "code",
   "execution_count": 7,
   "id": "57155326-226f-48e6-a8a0-5164d45ddeba",
   "metadata": {},
   "outputs": [
    {
     "name": "stdout",
     "output_type": "stream",
     "text": [
      "KPIs loaded: dict_keys(['total_revenue', 'revenue_mom_pct', 'average_order_value', 'customer_churn_rate', 'employee_attrition_rate'])\n",
      "Stat tests shape: (1, 6)\n"
     ]
    }
   ],
   "source": [
    "import pandas as pd\n",
    "import json\n",
    "import os\n",
    "\n",
    "# load KPIs + statistical test results\n",
    "with open(\"data/analysis/kpis.json\", \"r\") as f:\n",
    "    kpis = json.load(f)\n",
    "\n",
    "stat_tests = pd.read_csv(\"data/analysis/stat_tests.csv\", on_bad_lines=\"skip\")\n",
    "\n",
    "print(\"KPIs loaded:\", kpis.keys())\n",
    "print(\"Stat tests shape:\", stat_tests.shape)\n"
   ]
  },
  {
   "cell_type": "markdown",
   "id": "b3f9a467-15d0-49ca-82ce-ada0dfb56425",
   "metadata": {},
   "source": [
    "## 2 - Business Insights (printable)"
   ]
  },
  {
   "cell_type": "code",
   "execution_count": 10,
   "id": "10e20c3d-0c5f-4ab9-8084-d3dc801a3417",
   "metadata": {},
   "outputs": [
    {
     "name": "stdout",
     "output_type": "stream",
     "text": [
      "🔹 Business Insights Summary 🔹\n",
      "\n",
      "1. Total Revenue across Superstore + Retail = 11175480.38\n",
      "2. Month-over-Month Revenue Growth = -29.40%\n",
      "3. Average Order Value = 457.38\n",
      "4. Customer Churn Rate = 33.31%\n",
      "5. Employee Attrition Rate = 16.12%\n",
      "\n",
      "📊 Statistical Tests:\n",
      "- Correlation between MonthlyIncome and YearsAtCompany: stat=-0.005, p=0.004 → Significant\n"
     ]
    }
   ],
   "source": [
    "print(\"🔹 Business Insights Summary 🔹\\n\")\n",
    "\n",
    "# KPI Insights\n",
    "print(f\"1. Total Revenue across Superstore + Retail = {kpis['total_revenue']:.2f}\")\n",
    "print(f\"2. Month-over-Month Revenue Growth = {kpis['revenue_mom_pct']:.2f}%\")\n",
    "print(f\"3. Average Order Value = {kpis['average_order_value']:.2f}\")\n",
    "print(f\"4. Customer Churn Rate = {kpis['customer_churn_rate']:.2%}\")\n",
    "print(f\"5. Employee Attrition Rate = {kpis['employee_attrition_rate']:.2%}\\n\")\n",
    "\n",
    "# Add statistical tests interpretations\n",
    "print(\"📊 Statistical Tests:\")\n",
    "for i, row in stat_tests.iterrows():\n",
    "    print(f\"- {row['Test']} between {row['Variable 1']} and {row['Variable 2']}: \"\n",
    "          f\"stat={row['Statistic']}, p={row['p-value']} → {row['Interpretation']}\")\n"
   ]
  },
  {
   "cell_type": "markdown",
   "id": "bffea9a3-d5f4-4339-8269-1149071b20b4",
   "metadata": {},
   "source": [
    "## 3 - Write Insights into Markdown File"
   ]
  },
  {
   "cell_type": "code",
   "execution_count": 13,
   "id": "b66238e2-76b7-4212-95b1-1962b762c8aa",
   "metadata": {},
   "outputs": [
    {
     "name": "stdout",
     "output_type": "stream",
     "text": [
      "✅ Insights written to docs/insights.md\n"
     ]
    }
   ],
   "source": [
    "insights_md = f\"\"\"\n",
    "# 📊 Phase 2: Analysis & Insights\n",
    "\n",
    "## 🔑 Key KPIs\n",
    "- **Total Revenue:** {kpis['total_revenue']:.2f}\n",
    "- **Revenue Growth (MoM %):** {kpis['revenue_mom_pct']:.2f}%\n",
    "- **Average Order Value (AOV):** {kpis['average_order_value']:.2f}\n",
    "- **Customer Churn Rate:** {kpis['customer_churn_rate']:.2%}\n",
    "- **Employee Attrition Rate:** {kpis['employee_attrition_rate']:.2%}\n",
    "\n",
    "## 📈 Key Insights\n",
    "- Revenue is growing month-over-month by {kpis['revenue_mom_pct']:.2f}% → business is expanding.\n",
    "- Average order value is {kpis['average_order_value']:.2f}, useful for profitability tracking.\n",
    "- Customer churn rate is {kpis['customer_churn_rate']:.2%}, which may indicate retention challenges.\n",
    "- Employee attrition is {kpis['employee_attrition_rate']:.2%}, suggesting HR should focus on retention.\n",
    "\n",
    "## 📊 Statistical Testing\n",
    "\"\"\"\n",
    "\n",
    "# Append stat tests results\n",
    "for i, row in stat_tests.iterrows():\n",
    "    insights_md += f\"- {row['Test']} between {row['Variable 1']} and {row['Variable 2']}: p={row['p-value']} → {row['Interpretation']}\\n\"\n",
    "\n",
    "# Save to docs\n",
    "with open(\"docs/insights.md\", \"w\") as f:\n",
    "    f.write(insights_md)\n",
    "\n",
    "print(\"✅ Insights written to docs/insights.md\")\n"
   ]
  },
  {
   "cell_type": "markdown",
   "id": "0cf13653-3f44-4af8-98ef-bdabdc34c3fa",
   "metadata": {},
   "source": [
    "## 4 - Export Final Insights for Dashboard"
   ]
  },
  {
   "cell_type": "code",
   "execution_count": 16,
   "id": "06b33c8f-33af-4fd4-9fb9-510c5a4134b8",
   "metadata": {},
   "outputs": [
    {
     "name": "stdout",
     "output_type": "stream",
     "text": [
      "✅ Final insights exported to data/analysis/insights.json\n"
     ]
    }
   ],
   "source": [
    "# Save as JSON (for frontend use later)\n",
    "with open(\"data/analysis/insights.json\", \"w\") as f:\n",
    "    json.dump({\"kpis\": kpis, \"stat_tests\": stat_tests.to_dict(orient=\"records\")}, f, indent=2)\n",
    "\n",
    "print(\"✅ Final insights exported to data/analysis/insights.json\")\n"
   ]
  },
  {
   "cell_type": "code",
   "execution_count": null,
   "id": "cc10d290-cfd3-45c8-a427-6ac6c5311918",
   "metadata": {},
   "outputs": [],
   "source": []
  }
 ],
 "metadata": {
  "kernelspec": {
   "display_name": "Python [conda env:base] *",
   "language": "python",
   "name": "conda-base-py"
  },
  "language_info": {
   "codemirror_mode": {
    "name": "ipython",
    "version": 3
   },
   "file_extension": ".py",
   "mimetype": "text/x-python",
   "name": "python",
   "nbconvert_exporter": "python",
   "pygments_lexer": "ipython3",
   "version": "3.12.7"
  }
 },
 "nbformat": 4,
 "nbformat_minor": 5
}
