{
 "cells": [
  {
   "cell_type": "markdown",
   "id": "f3937fe6-fc3d-4559-9dbe-6522375249e8",
   "metadata": {},
   "source": [
    "## 1- import data"
   ]
  },
  {
   "cell_type": "code",
   "execution_count": 2,
   "id": "7a205c63-e1a6-479c-9fe3-e5bcba2a8598",
   "metadata": {},
   "outputs": [
    {
     "name": "stdout",
     "output_type": "stream",
     "text": [
      "HR: (1470, 36) Superstore: (9983, 21) Retail: (392692, 8)\n"
     ]
    }
   ],
   "source": [
    "import os\n",
    "import json\n",
    "import pandas as pd\n",
    "\n",
    "# make sure folders exist\n",
    "os.makedirs(\"data/analysis\", exist_ok=True)\n",
    "\n",
    "# load cleaned datasets\n",
    "hr = pd.read_csv(\"data/cleaned/hr_clean.csv\")\n",
    "superstore = pd.read_csv(\"data/cleaned/superstore_clean.csv\")\n",
    "retail = pd.read_csv(\"data/cleaned/retail_clean.csv\")\n",
    "\n",
    "# check quick shapes\n",
    "print(\"HR:\", hr.shape, \"Superstore:\", superstore.shape, \"Retail:\", retail.shape)\n"
   ]
  },
  {
   "cell_type": "markdown",
   "id": "6132008a-46c0-4dc8-8c36-31cf513d059e",
   "metadata": {},
   "source": [
    "## 2 - Convert Dates & Compute Revenue"
   ]
  },
  {
   "cell_type": "code",
   "execution_count": 6,
   "id": "4076aed3-d3c0-4aa9-bfac-bc7fd91f8fd4",
   "metadata": {},
   "outputs": [],
   "source": [
    "# Convert dates\n",
    "superstore['Order Date'] = pd.to_datetime(superstore['Order Date'], errors='coerce')\n",
    "retail['InvoiceDate'] = pd.to_datetime(retail['InvoiceDate'], errors='coerce')\n",
    "\n",
    "# Revenue columns\n",
    "superstore['Revenue'] = superstore['Sales']\n",
    "retail['Revenue'] = retail['Quantity'] * retail['UnitPrice']\n"
   ]
  },
  {
   "cell_type": "markdown",
   "id": "b903dc69-8253-4d06-913a-e3dd61954d64",
   "metadata": {},
   "source": [
    "## 3- Total Revenue"
   ]
  },
  {
   "cell_type": "code",
   "execution_count": 8,
   "id": "61f0f50c-61bb-4922-9b65-01e1cef9d303",
   "metadata": {},
   "outputs": [
    {
     "name": "stdout",
     "output_type": "stream",
     "text": [
      "Total Revenue: 11175480.3843\n"
     ]
    }
   ],
   "source": [
    "total_revenue = superstore['Revenue'].sum() + retail['Revenue'].sum()\n",
    "print(\"Total Revenue:\", total_revenue)\n"
   ]
  },
  {
   "cell_type": "markdown",
   "id": "83d978bc-ad4c-497b-b4fe-f79f35b64ad8",
   "metadata": {},
   "source": [
    "## 4 - Monthly Revenue Growth (MoM %)"
   ]
  },
  {
   "cell_type": "code",
   "execution_count": 15,
   "id": "c1e702f8-1955-4b6e-8c9b-d1ab1facc7e7",
   "metadata": {},
   "outputs": [
    {
     "name": "stdout",
     "output_type": "stream",
     "text": [
      "Revenue Growth (MoM %): -29.399895017067646\n"
     ]
    }
   ],
   "source": [
    "monthly = superstore.groupby(superstore['Order Date'].dt.to_period(\"M\"))['Revenue'].sum().reset_index()\n",
    "monthly['Order Date'] = monthly['Order Date'].dt.to_timestamp()\n",
    "\n",
    "rev_last = monthly['Revenue'].iloc[-1]\n",
    "rev_prev = monthly['Revenue'].iloc[-2]\n",
    "rev_mom_pct = (rev_last - rev_prev) / rev_prev * 100\n",
    "\n",
    "print(\"Revenue Growth (MoM %):\", rev_mom_pct)\n",
    "monthly.to_csv(\"data/analysis/monthly_sales_for_kpis.csv\", index=False)\n"
   ]
  },
  {
   "cell_type": "markdown",
   "id": "e4991e19-916b-4b7e-9544-6ef2aa993693",
   "metadata": {},
   "source": [
    "## 5 - Average Order Value (AOV)"
   ]
  },
  {
   "cell_type": "code",
   "execution_count": 20,
   "id": "a8f57fc9-507e-47eb-9491-6fd7254c24c1",
   "metadata": {},
   "outputs": [
    {
     "name": "stdout",
     "output_type": "stream",
     "text": [
      "Average Order Value: 457.3798701379173\n"
     ]
    }
   ],
   "source": [
    "orders = superstore['Order ID'].nunique()  # make sure column is named 'Order ID'\n",
    "aov = superstore['Revenue'].sum() / orders\n",
    "print(\"Average Order Value:\", aov)\n"
   ]
  },
  {
   "cell_type": "markdown",
   "id": "089d0c5c-1472-4b12-8eca-9f9accfdeca3",
   "metadata": {},
   "source": [
    "## 6- Customer Churn Rate (Retail)"
   ]
  },
  {
   "cell_type": "code",
   "execution_count": 23,
   "id": "ce6adc85-8908-4471-af7e-45c1610d49c0",
   "metadata": {},
   "outputs": [
    {
     "name": "stdout",
     "output_type": "stream",
     "text": [
      "Customer Churn Rate: 0.33310281235592437\n"
     ]
    }
   ],
   "source": [
    "# Simple definition = % of customers who stopped buying after a cutoff date\n",
    "\n",
    "cust_last_purchase = retail.groupby('CustomerID')['InvoiceDate'].max().reset_index()\n",
    "\n",
    "# cutoff = 3 months before last date in dataset\n",
    "cutoff = retail['InvoiceDate'].max() - pd.DateOffset(months=3)\n",
    "\n",
    "churned = (cust_last_purchase['InvoiceDate'] < cutoff).sum()\n",
    "total_customers = cust_last_purchase.shape[0]\n",
    "churn_rate = churned / total_customers\n",
    "\n",
    "print(\"Customer Churn Rate:\", churn_rate)\n"
   ]
  },
  {
   "cell_type": "markdown",
   "id": "7db0d21e-47a0-49b6-a6b3-ac992af2945c",
   "metadata": {},
   "source": [
    "## 7 - Employee Attrition Rate (HR)"
   ]
  },
  {
   "cell_type": "code",
   "execution_count": 26,
   "id": "cbf4ca73-5e14-465d-9b74-1209cabd3f15",
   "metadata": {},
   "outputs": [
    {
     "name": "stdout",
     "output_type": "stream",
     "text": [
      "Employee Attrition Rate: 0.16122448979591836\n"
     ]
    }
   ],
   "source": [
    "attrition_rate = hr['AttritionFlag'].mean()  # since 1=Yes, 0=No\n",
    "print(\"Employee Attrition Rate:\", attrition_rate)\n"
   ]
  },
  {
   "cell_type": "markdown",
   "id": "426efbba-5deb-4690-976c-0965b2658269",
   "metadata": {},
   "source": [
    "## 8 - Save All KPIs"
   ]
  },
  {
   "cell_type": "code",
   "execution_count": 29,
   "id": "dcb3b0d7-03b8-44c7-94cb-518a83b25932",
   "metadata": {},
   "outputs": [
    {
     "name": "stdout",
     "output_type": "stream",
     "text": [
      "✅ KPIs saved to data/analysis/kpis.json\n",
      "{\n",
      "  \"total_revenue\": 11175480.3843,\n",
      "  \"revenue_mom_pct\": -29.399895017067646,\n",
      "  \"average_order_value\": 457.3798701379173,\n",
      "  \"customer_churn_rate\": 0.33310281235592437,\n",
      "  \"employee_attrition_rate\": 0.16122448979591836\n",
      "}\n"
     ]
    }
   ],
   "source": [
    "kpis = {\n",
    "    \"total_revenue\": float(total_revenue),\n",
    "    \"revenue_mom_pct\": float(rev_mom_pct),\n",
    "    \"average_order_value\": float(aov),\n",
    "    \"customer_churn_rate\": float(churn_rate),\n",
    "    \"employee_attrition_rate\": float(attrition_rate)\n",
    "}\n",
    "\n",
    "# Save to JSON\n",
    "with open(\"data/analysis/kpis.json\", \"w\") as f:\n",
    "    json.dump(kpis, f, indent=2)\n",
    "\n",
    "print(\"✅ KPIs saved to data/analysis/kpis.json\")\n",
    "print(json.dumps(kpis, indent=2))\n"
   ]
  },
  {
   "cell_type": "code",
   "execution_count": null,
   "id": "85e3583c-fc76-480f-9ad4-ac169d9ac8b5",
   "metadata": {},
   "outputs": [],
   "source": []
  }
 ],
 "metadata": {
  "kernelspec": {
   "display_name": "Python [conda env:base] *",
   "language": "python",
   "name": "conda-base-py"
  },
  "language_info": {
   "codemirror_mode": {
    "name": "ipython",
    "version": 3
   },
   "file_extension": ".py",
   "mimetype": "text/x-python",
   "name": "python",
   "nbconvert_exporter": "python",
   "pygments_lexer": "ipython3",
   "version": "3.12.7"
  }
 },
 "nbformat": 4,
 "nbformat_minor": 5
}
