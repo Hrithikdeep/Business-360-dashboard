{
 "cells": [
  {
   "cell_type": "markdown",
   "id": "dfa8f9c8-01da-40bc-b595-9d33c63a2ccd",
   "metadata": {},
   "source": [
    "### Statistical Testing"
   ]
  },
  {
   "cell_type": "markdown",
   "id": "f35f13eb-1a5b-4766-94a4-9d12465c4914",
   "metadata": {},
   "source": [
    "## 1-Setup"
   ]
  },
  {
   "cell_type": "code",
   "execution_count": 4,
   "id": "c94dcefd-eef8-408c-b011-457ab7897c9a",
   "metadata": {},
   "outputs": [
    {
     "name": "stdout",
     "output_type": "stream",
     "text": [
      "HR: (1470, 36) Superstore: (9983, 21) Retail: (392692, 8)\n"
     ]
    }
   ],
   "source": [
    "import pandas as pd\n",
    "from scipy import stats\n",
    "import numpy as np\n",
    "\n",
    "# load cleaned datasets\n",
    "hr = pd.read_csv(\"data/cleaned/hr_clean.csv\")\n",
    "superstore = pd.read_csv(\"data/cleaned/superstore_clean.csv\")\n",
    "retail = pd.read_csv(\"data/cleaned/retail_clean.csv\")\n",
    "\n",
    "print(\"HR:\", hr.shape, \"Superstore:\", superstore.shape, \"Retail:\", retail.shape)\n"
   ]
  },
  {
   "cell_type": "markdown",
   "id": "4e92fa78-910c-4a1a-b34a-2ce67c2c710c",
   "metadata": {},
   "source": [
    "## 2 - Correlation (numeric vs numeric)"
   ]
  },
  {
   "cell_type": "code",
   "execution_count": 7,
   "id": "6ecb4dcf-6d55-45f7-956e-6fde9f98f74b",
   "metadata": {},
   "outputs": [
    {
     "name": "stdout",
     "output_type": "stream",
     "text": [
      "Correlation (MonthlyIncome vs YearsAtCompany): r=0.514, p=0.000\n"
     ]
    }
   ],
   "source": [
    "# check if MonthlyIncome relates to YearsAtCompany\n",
    "\n",
    "if \"MonthlyIncome\" in hr.columns and \"YearsAtCompany\" in hr.columns:\n",
    "    x = hr['MonthlyIncome']\n",
    "    y = hr['YearsAtCompany']\n",
    "    corr, pval = stats.pearsonr(x, y)\n",
    "    print(f\"Correlation (MonthlyIncome vs YearsAtCompany): r={corr:.3f}, p={pval:.3f}\")\n",
    "else:\n",
    "    print(\"⚠️ Columns not found in HR dataset. Check column names.\")\n"
   ]
  },
  {
   "cell_type": "markdown",
   "id": "bb4e148f-6eda-4fd5-b24b-6f70728c5c42",
   "metadata": {},
   "source": [
    "## 3 - t-test (compare two groups)"
   ]
  },
  {
   "cell_type": "code",
   "execution_count": 10,
   "id": "adfbc3ab-3b5f-431c-89d7-5f8161b68bfc",
   "metadata": {},
   "outputs": [
    {
     "name": "stdout",
     "output_type": "stream",
     "text": [
      "T-test (Income attrited vs stayed): t=-7.483, p=0.000\n"
     ]
    }
   ],
   "source": [
    "# compare MonthlyIncome of employees who left vs those who stayed\n",
    "\n",
    "if \"AttritionFlag\" in hr.columns and \"MonthlyIncome\" in hr.columns:\n",
    "    left = hr[hr['AttritionFlag']==1]['MonthlyIncome']\n",
    "    stay = hr[hr['AttritionFlag']==0]['MonthlyIncome']\n",
    "    tstat, pval = stats.ttest_ind(left, stay, equal_var=False)\n",
    "    print(f\"T-test (Income attrited vs stayed): t={tstat:.3f}, p={pval:.3f}\")\n",
    "else:\n",
    "    print(\"⚠️ Columns not found in HR dataset.\")\n",
    "\n"
   ]
  },
  {
   "cell_type": "markdown",
   "id": "1ead3960-f1d3-46dd-b6e1-576f5ef90105",
   "metadata": {},
   "source": [
    "## 4 - Chi-Square Test (categorical vs categorical)"
   ]
  },
  {
   "cell_type": "code",
   "execution_count": 13,
   "id": "078909a1-85f6-405f-ab50-41fb75e4679b",
   "metadata": {},
   "outputs": [
    {
     "name": "stdout",
     "output_type": "stream",
     "text": [
      "Chi-square Test (Department vs Attrition)\n",
      "chi2 = 10.79600732241067 p-value = 0.004525606574479633\n"
     ]
    }
   ],
   "source": [
    "# check if Department and Attrition are related\n",
    "\n",
    "if \"Department\" in hr.columns and \"AttritionFlag\" in hr.columns:\n",
    "    contingency = pd.crosstab(hr['Department'], hr['AttritionFlag'])\n",
    "    chi2, p, dof, expected = stats.chi2_contingency(contingency)\n",
    "    print(\"Chi-square Test (Department vs Attrition)\")\n",
    "    print(\"chi2 =\", chi2, \"p-value =\", p)\n",
    "else:\n",
    "    print(\"⚠️ Department or AttritionFlag column not found.\")\n"
   ]
  },
  {
   "cell_type": "markdown",
   "id": "85b7c82f-2a6c-468c-ace9-b6bc6ea00599",
   "metadata": {},
   "source": [
    "## 5 - Superstore: Discount vs Sales"
   ]
  },
  {
   "cell_type": "code",
   "execution_count": 16,
   "id": "1ac503bc-f1a6-4e1b-b19b-cffdb4cfadb5",
   "metadata": {},
   "outputs": [
    {
     "name": "stdout",
     "output_type": "stream",
     "text": [
      "Correlation (Discount vs Sales): r=-0.027, p=0.006\n"
     ]
    }
   ],
   "source": [
    "# correlation between Discount and Sales\n",
    "\n",
    "if \"Discount\" in superstore.columns and \"Sales\" in superstore.columns:\n",
    "    corr, pval = stats.pearsonr(superstore['Discount'], superstore['Sales'])\n",
    "    print(f\"Correlation (Discount vs Sales): r={corr:.3f}, p={pval:.3f}\")\n",
    "else:\n",
    "    print(\"⚠️ Columns not found in Superstore dataset.\")\n"
   ]
  },
  {
   "cell_type": "markdown",
   "id": "08c0eb7e-6aad-499f-8efc-06525223e40c",
   "metadata": {},
   "source": [
    "## 6 - Retail: Quantity vs UnitPrice"
   ]
  },
  {
   "cell_type": "code",
   "execution_count": 20,
   "id": "47b3c5bf-86eb-4356-8995-ea88ff548954",
   "metadata": {},
   "outputs": [
    {
     "name": "stdout",
     "output_type": "stream",
     "text": [
      "Correlation (Quantity vs UnitPrice): r=-0.005, p=0.004\n"
     ]
    }
   ],
   "source": [
    "# Are higher priced items sold in smaller quantities?\n",
    "\n",
    "if \"Quantity\" in retail.columns and \"UnitPrice\" in retail.columns:\n",
    "    corr, pval = stats.pearsonr(retail['Quantity'], retail['UnitPrice'])\n",
    "    print(f\"Correlation (Quantity vs UnitPrice): r={corr:.3f}, p={pval:.3f}\")\n",
    "else:\n",
    "    print(\"⚠️ Columns not found in Retail dataset.\")\n"
   ]
  },
  {
   "cell_type": "markdown",
   "id": "fd446980-07d8-41bf-b132-d5df958674e9",
   "metadata": {},
   "source": [
    "## Save Results"
   ]
  },
  {
   "cell_type": "code",
   "execution_count": 23,
   "id": "60aa5ae0-d0bd-4af2-98f4-3b8063707478",
   "metadata": {},
   "outputs": [
    {
     "name": "stdout",
     "output_type": "stream",
     "text": [
      "Statistical test results saved to data/analysis/stat_tests.csv\n"
     ]
    }
   ],
   "source": [
    "import csv\n",
    "\n",
    "results = [\n",
    "    [\"Test\", \"Variable 1\", \"Variable 2\", \"Statistic\", \"p-value\", \"Interpretation\"]\n",
    "]\n",
    "\n",
    "# Example: fill with actual results\n",
    "results.append([\"Correlation\", \"MonthlyIncome\", \"YearsAtCompany\", round(corr,3), round(pval,3), \"Significant\" if pval<0.05 else \"Not Significant\"])\n",
    "\n",
    "# save results\n",
    "with open(\"data/analysis/stat_tests.csv\", \"w\", newline=\"\") as f:\n",
    "    writer = csv.writer(f)\n",
    "    writer.writerows(results)\n",
    "\n",
    "print(\"Statistical test results saved to data/analysis/stat_tests.csv\")\n"
   ]
  },
  {
   "cell_type": "code",
   "execution_count": null,
   "id": "224bdcdc-32ac-4d8b-81f4-0205d8584e36",
   "metadata": {},
   "outputs": [],
   "source": []
  }
 ],
 "metadata": {
  "kernelspec": {
   "display_name": "Python [conda env:base] *",
   "language": "python",
   "name": "conda-base-py"
  },
  "language_info": {
   "codemirror_mode": {
    "name": "ipython",
    "version": 3
   },
   "file_extension": ".py",
   "mimetype": "text/x-python",
   "name": "python",
   "nbconvert_exporter": "python",
   "pygments_lexer": "ipython3",
   "version": "3.12.7"
  }
 },
 "nbformat": 4,
 "nbformat_minor": 5
}
